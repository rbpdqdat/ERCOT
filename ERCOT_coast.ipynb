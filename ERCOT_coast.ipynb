{
 "cells": [
  {
   "cell_type": "code",
   "execution_count": 11,
   "metadata": {
    "collapsed": true
   },
   "outputs": [],
   "source": [
    "#!/usr/bin/env python\n",
    "\"\"\"\n",
    "Your task is as follows:\n",
    "- read the provided Excel file\n",
    "- find and return the min, max and average values for the COAST region\n",
    "- find and return the time value for the min and max entries\n",
    "- the time values should be returned as Python tuples\n",
    "\n",
    "Please see the test function for the expected return format\n",
    "\"\"\"\n",
    "\n",
    "import xlrd\n",
    "import numpy as np\n",
    "from zipfile import ZipFile\n",
    "datafile = \"2013_ERCOT_Hourly_Load_Data.xls\""
   ]
  },
  {
   "cell_type": "code",
   "execution_count": 35,
   "metadata": {
    "collapsed": true
   },
   "outputs": [],
   "source": [
    "def open_zip(datafile):\n",
    "    with ZipFile('{0}.zip'.format(datafile), 'r') as myzip:\n",
    "        myzip.extractall()"
   ]
  },
  {
   "cell_type": "code",
   "execution_count": 45,
   "metadata": {
    "collapsed": false
   },
   "outputs": [],
   "source": [
    "def parse_file(datafile):\n",
    "    workbook = xlrd.open_workbook(datafile)\n",
    "    sheet = workbook.sheet_by_index(0)\n",
    "\n",
    "    data = [[sheet.cell_value(r, col) for col in range(sheet.ncols)] for r in range(sheet.nrows)]\n",
    "\n",
    "    cv = sheet.col_values(1, start_rowx=1, end_rowx=None)\n",
    "    \n",
    "    ### example on how you can get the data\n",
    "    #sheet_data = [[sheet.cell_value(r, col) for col in range(sheet.ncols)] for r in range(sheet.nrows)]\n",
    "\n",
    "    ### other useful methods:\n",
    "    # print \"\\nROWS, COLUMNS, and CELLS:\"\n",
    "    # print \"Number of rows in the sheet:\", \n",
    "    # print sheet.nrows\n",
    "    # print \"Type of data in cell (row 3, col 2):\", \n",
    "    # print sheet.cell_type(3, 2)\n",
    "    # print \"Value in cell (row 3, col 2):\", \n",
    "    # print sheet.cell_value(3, 2)\n",
    "    # print \"Get a slice of values in column 3, from rows 1-3:\"\n",
    "    # print sheet.col_values(3, start_rowx=1, end_rowx=4)\n",
    "\n",
    "    # print \"\\nDATES:\"\n",
    "    # print \"Type of data in cell (row 1, col 0):\", \n",
    "    # print sheet.cell_type(1, 0)\n",
    "    # exceltime = sheet.cell_value(1, 0)\n",
    "    # print \"Time in Excel format:\",\n",
    "    # print exceltime\n",
    "    # print \"Convert time to a Python datetime tuple, from the Excel float:\",\n",
    "    # print xlrd.xldate_as_tuple(exceltime, 0)\n",
    "\n",
    "    #minCoast = np.min(sheet.col_values(colx=1,start_rowx=1))\n",
    "    #maxCoast = np.max(sheet.col_values(colx=1,start_rowx=1))\n",
    "    #count = 0\n",
    "    #for i in sheet.col_values(colx=1,start_rowx=1):\n",
    "    #   if (i == maxCoast):\n",
    "    #       rowmaxid = count\n",
    "    #   if (i == minCoast):\n",
    "    #        rowminid = count\n",
    "    #    count += 1            \n",
    "    \n",
    "    maxval = max(cv)\n",
    "    minval = min(cv)\n",
    "    meanval = np.mean(cv)\n",
    "    \n",
    "    maxpos = cv.index(maxval) + 1\n",
    "    minpos = cv.index(minval) + 1\n",
    "    \n",
    "    maxtime = sheet.cell_value(maxpos, 0)\n",
    "    realtime = xlrd.xldate_as_tuple(maxtime, 0)\n",
    "    mintime = sheet.cell_value(minpos,0)\n",
    "    realmintime = xlrd.xldate_as_tuple(mintime,0)\n",
    "    \n",
    "    data = {\n",
    "           # 'maxtime': (xlrd.xldate_as_tuple(sheet.cell_value(rowmaxid,0),0)),\n",
    "           # 'maxvalue': np.max(sheet.col_values(colx=1,start_rowx=1)),\n",
    "           # 'mintime': (xlrd.xldate_as_tuple(sheet.cell_value(rowminid,0),0)),\n",
    "           # 'minvalue': np.min(sheet.col_values(colx=1,start_rowx=1)),\n",
    "           # 'avgcoast': np.mean(sheet.col_values(colx=1,start_rowx=1))\n",
    "            'maxtime': realtime,\n",
    "            'maxvalue': maxval,\n",
    "            'mintime': realmintime,\n",
    "            'minvalue': minval,\n",
    "            'avgcoast': np.mean(sheet.col_values(colx=1,start_rowx=1))\n",
    "    }\n",
    "    \n",
    "    return data"
   ]
  },
  {
   "cell_type": "code",
   "execution_count": 46,
   "metadata": {
    "collapsed": false
   },
   "outputs": [
    {
     "data": {
      "text/plain": [
       "{'avgcoast': 10976.933460679784,\n",
       " 'maxtime': (2013, 8, 13, 17, 0, 0),\n",
       " 'maxvalue': 18779.025510000003,\n",
       " 'mintime': (2013, 2, 3, 4, 0, 0),\n",
       " 'minvalue': 6602.113898999982}"
      ]
     },
     "execution_count": 46,
     "metadata": {},
     "output_type": "execute_result"
    }
   ],
   "source": [
    "parse_file(datafile)"
   ]
  },
  {
   "cell_type": "code",
   "execution_count": 47,
   "metadata": {
    "collapsed": false
   },
   "outputs": [],
   "source": [
    "def test():\n",
    "    #open_zip(datafile)\n",
    "    data = parse_file(datafile)\n",
    "\n",
    "    assert data['maxtime'] == (2013, 8, 13, 17, 0, 0)\n",
    "    assert round(data['maxvalue'], 10) == round(18779.02551, 10)\n",
    "\n",
    "\n",
    "test()"
   ]
  },
  {
   "cell_type": "code",
   "execution_count": null,
   "metadata": {
    "collapsed": true
   },
   "outputs": [],
   "source": []
  }
 ],
 "metadata": {
  "kernelspec": {
   "display_name": "Python 3",
   "language": "python",
   "name": "python3"
  },
  "language_info": {
   "codemirror_mode": {
    "name": "ipython",
    "version": 3
   },
   "file_extension": ".py",
   "mimetype": "text/x-python",
   "name": "python",
   "nbconvert_exporter": "python",
   "pygments_lexer": "ipython3",
   "version": "3.5.2"
  }
 },
 "nbformat": 4,
 "nbformat_minor": 2
}
